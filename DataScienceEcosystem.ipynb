{
 "cells": [
  {
   "cell_type": "markdown",
   "id": "e341fb14-d6f6-457a-b475-a0d7e2aa819f",
   "metadata": {},
   "source": [
    "# Data Science Tools and Ecosystem"
   ]
  },
  {
   "cell_type": "markdown",
   "id": "37cc9772-b55f-4125-8235-f5b7782e9d68",
   "metadata": {},
   "source": [
    "In this notebook, Data Science Tools and Ecosystem are summarized."
   ]
  },
  {
   "cell_type": "markdown",
   "id": "667786e8-3726-4d74-b902-aba3faf1e116",
   "metadata": {},
   "source": [
    "**Objectives**: \n",
    "- List popular languages for Data Science\n",
    "- List popular libraries for Data Science\n",
    "- List Data Science Tools\n",
    "- Present muiltiply and add arithmetic expressions\n",
    "- Present minutes to hours conversion arithmetic expressions"
   ]
  },
  {
   "cell_type": "markdown",
   "id": "a7500e54-32f8-418b-a172-1b4f41413f4a",
   "metadata": {},
   "source": [
    "Some of the popular languages that Data Scientists use are: "
   ]
  },
  {
   "cell_type": "markdown",
   "id": "201c83a2-30f8-451f-8d02-12cf5674ab4b",
   "metadata": {},
   "source": [
    "1. Python\n",
    "2. R\n",
    "3. SQL\n",
    "4. Scala\n",
    "5. Java\n",
    "6. C++\n",
    "7. Julia"
   ]
  },
  {
   "cell_type": "markdown",
   "id": "49270409-a700-459f-beb5-5ec18b24ad63",
   "metadata": {},
   "source": [
    "Some of the commonly used libraries used by Data Cientists include:"
   ]
  },
  {
   "cell_type": "markdown",
   "id": "e1864d51-b7fa-4193-8482-45d2818f90bc",
   "metadata": {},
   "source": [
    "1. Pandas\n",
    "2. NumPy\n",
    "3. Matplotlib\n",
    "4. Seaborn\n",
    "5. Scikit-learn\n",
    "6. Keras\n",
    "7. Apache Spark\n",
    "8. Scala libraries\n",
    "9. R libraries"
   ]
  },
  {
   "cell_type": "markdown",
   "id": "2654f8c9-afbd-4dc1-a1ba-eaaac958a359",
   "metadata": {},
   "source": [
    "|Data Science Tools|\n",
    "|-----|\n",
    "|Jupyter|\n",
    "|RStudio|\n",
    "|Spyder|"
   ]
  },
  {
   "cell_type": "markdown",
   "id": "552abc69-6054-406f-b551-924c49f23515",
   "metadata": {},
   "source": [
    "### Below are a few examples of evaluating arithmetic expressions in Python"
   ]
  },
  {
   "cell_type": "markdown",
   "id": "18cd7920-b2f3-4964-a543-546768799261",
   "metadata": {},
   "source": [
    "This is a simple arithmetic expression to multiply then add integers:"
   ]
  },
  {
   "cell_type": "code",
   "execution_count": 2,
   "id": "0e9ffd5f-a57a-4e71-af79-0f3b482d31a4",
   "metadata": {},
   "outputs": [
    {
     "data": {
      "text/plain": [
       "17"
      ]
     },
     "execution_count": 2,
     "metadata": {},
     "output_type": "execute_result"
    }
   ],
   "source": [
    "(3*4)+5"
   ]
  },
  {
   "cell_type": "markdown",
   "id": "04233060-83f9-4c64-b1d9-58a9f478fa60",
   "metadata": {},
   "source": [
    "This will convert 200 minutes to hours by using integer division (//) and the modulo operator (%):"
   ]
  },
  {
   "cell_type": "code",
   "execution_count": 5,
   "id": "a4e81c84-f342-44bc-9aea-0a3fc131d567",
   "metadata": {},
   "outputs": [
    {
     "name": "stdout",
     "output_type": "stream",
     "text": [
      "3 hours and 20 minutes\n"
     ]
    }
   ],
   "source": [
    "minutes = 200\n",
    "hours = minutes//60\n",
    "remaining_minutes = minutes % 60\n",
    "print(f\"{hours} hours and {remaining_minutes} minutes\")"
   ]
  },
  {
   "cell_type": "markdown",
   "id": "b697270b-82ad-4414-aaf2-5a15e0c5ca49",
   "metadata": {},
   "source": [
    "## Author:"
   ]
  },
  {
   "cell_type": "markdown",
   "id": "e7149c53-84d2-4445-a64c-738fea702270",
   "metadata": {},
   "source": [
    "Igor Romko"
   ]
  }
 ],
 "metadata": {
  "kernelspec": {
   "display_name": "Python 3 (ipykernel)",
   "language": "python",
   "name": "python3"
  },
  "language_info": {
   "codemirror_mode": {
    "name": "ipython",
    "version": 3
   },
   "file_extension": ".py",
   "mimetype": "text/x-python",
   "name": "python",
   "nbconvert_exporter": "python",
   "pygments_lexer": "ipython3",
   "version": "3.13.5"
  }
 },
 "nbformat": 4,
 "nbformat_minor": 5
}
